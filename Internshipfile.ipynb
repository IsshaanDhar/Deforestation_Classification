{
 "cells": [
  {
   "cell_type": "code",
   "execution_count": null,
   "id": "bbbeaec0",
   "metadata": {},
   "outputs": [],
   "source": [
    "import numpy as np\n",
    "import pandas as pd\n",
    "import matplotlib.pyplot as plt\n",
    "import seaborn as sns\n",
    "from sklearn.model_selection import train_test_split\n",
    "from sklearn.linear_model import LogisticRegression\n",
    "from sklearn.feature_selection import SelectKBest, f_classif, mutual_info_classif\n",
    "from sklearn.ensemble import RandomForestClassifier\n",
    "from sklearn.feature_selection import SelectKBest, f_classif, mutual_info_classif\n",
    "from sklearn.ensemble import RandomForestClassifier\n",
    "from sklearn.preprocessing import StandardScaler\n",
    "from sklearn.metrics import accuracy_score,classification_report,ConfusionMatrixDisplay\n",
    "from sklearn.neighbors import KNeighborsClassifier\n",
    "from xgboost import XGBClassifier\n",
    "from sklearn.preprocessing import LabelEncoder, OneHotEncoder"
   ]
  },
  {
   "cell_type": "code",
   "execution_count": null,
   "id": "ffc846e5",
   "metadata": {},
   "outputs": [],
   "source": [
    "df1 = pd.read_csv('modis_2021_India.csv')\n",
    "df2 = pd.read_csv('modis_2022_India.csv')\n",
    "df3 = pd.read_csv('modis_2023_India.csv')"
   ]
  },
  {
   "cell_type": "code",
   "execution_count": null,
   "id": "74478a9a",
   "metadata": {},
   "outputs": [],
   "source": [
    "df1.head() # print first 5 rows - df1.tail() for last 5 rows"
   ]
  },
  {
   "cell_type": "code",
   "execution_count": null,
   "id": "0f7e9181",
   "metadata": {},
   "outputs": [],
   "source": [
    "df2.head()"
   ]
  },
  {
   "cell_type": "code",
   "execution_count": null,
   "id": "6dd1be61",
   "metadata": {},
   "outputs": [],
   "source": [
    "df3.head()"
   ]
  },
  {
   "cell_type": "code",
   "execution_count": null,
   "id": "1315965f",
   "metadata": {},
   "outputs": [],
   "source": [
    "df = pd.concat([df1, df2, df3], ignore_index=True)\n",
    "df.head()"
   ]
  },
  {
   "cell_type": "code",
   "execution_count": null,
   "id": "c63a3b08",
   "metadata": {},
   "outputs": [],
   "source": [
    "df.shape # rows and columns"
   ]
  },
  {
   "cell_type": "code",
   "execution_count": null,
   "id": "c5d2d3d7",
   "metadata": {},
   "outputs": [],
   "source": [
    "df.info() # datatype, memory allocation info"
   ]
  },
  {
   "cell_type": "code",
   "execution_count": null,
   "id": "a87da26a",
   "metadata": {},
   "outputs": [],
   "source": [
    "# Check for missing values\n",
    "df.isnull().sum()"
   ]
  },
  {
   "cell_type": "code",
   "execution_count": null,
   "id": "5aee2eed",
   "metadata": {},
   "outputs": [],
   "source": [
    "df.duplicated().sum()"
   ]
  },
  {
   "cell_type": "code",
   "execution_count": null,
   "id": "28efbccc",
   "metadata": {},
   "outputs": [],
   "source": [
    "#List column names to check\n",
    "df.columns"
   ]
  },
  {
   "cell_type": "code",
   "execution_count": null,
   "id": "d76c5564",
   "metadata": {},
   "outputs": [],
   "source": [
    "df.describe().T # Statistics of dataset - numbers!"
   ]
  },
  {
   "cell_type": "code",
   "execution_count": null,
   "id": "5aed86f3",
   "metadata": {},
   "outputs": [],
   "source": [
    "#Check Unique values of target variable\n",
    "df.type.value_counts()"
   ]
  },
  {
   "cell_type": "code",
   "execution_count": null,
   "id": "a2214274",
   "metadata": {},
   "outputs": [],
   "source": [
    "# Check unique and n unique for all categorical features\n",
    "for col in df.columns:\n",
    "    if df[col].dtype == 'object':\n",
    "        print(f\"Column: {col}\")\n",
    "        print(f\"Unique Values: {df[col].unique()}\")\n",
    "        print(f\"Number of unique values: {df[col].nunique()}\")\n",
    "        print(\"-\"* 50)"
   ]
  },
  {
   "cell_type": "code",
   "execution_count": null,
   "id": "6d1e1f31",
   "metadata": {},
   "outputs": [],
   "source": [
    "# Count plot for 'type'\n",
    "plt.figure(figsize=(8, 6))\n",
    "sns.countplot(x='type', data=df)\n",
    "plt.title('Distribution of Fire Types')\n",
    "plt.xlabel('Fire Type')\n",
    "plt.ylabel('Count')\n",
    "plt.show()"
   ]
  },
  {
   "cell_type": "code",
   "execution_count": null,
   "id": "fd612c0a",
   "metadata": {},
   "outputs": [],
   "source": [
    "#Histogram of confidence\n",
    "plt.figure(figsize=(8, 6))\n",
    "sns.histplot(df['confidence'], bins=20, kde=True)\n",
    "plt.title('Distribution of Confidence')\n",
    "plt.xlabel('Confidence')\n",
    "plt.ylabel('Frequency')\n",
    "plt.show()"
   ]
  },
  {
   "cell_type": "code",
   "execution_count": null,
   "id": "dba43789",
   "metadata": {},
   "outputs": [],
   "source": [
    "#Box plot for confidence' by 'type'\n",
    "plt.figure(figsize=(8, 6))\n",
    "sns.boxplot(x='type', y = 'confidence', data=df)\n",
    "plt.title('Confidence by Fire Type')\n",
    "plt.xlabel('Fire Type')\n",
    "plt.ylabel('Confidence')\n",
    "plt.show()"
   ]
  }
 ],
 "metadata": {
  "kernelspec": {
   "display_name": "Python 3",
   "language": "python",
   "name": "python3"
  },
  "language_info": {
   "codemirror_mode": {
    "name": "ipython",
    "version": 3
   },
   "file_extension": ".py",
   "mimetype": "text/x-python",
   "name": "python",
   "nbconvert_exporter": "python",
   "pygments_lexer": "ipython3",
   "version": "3.13.5"
  }
 },
 "nbformat": 4,
 "nbformat_minor": 5
}
